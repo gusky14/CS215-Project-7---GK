{
  "nbformat": 4,
  "nbformat_minor": 0,
  "metadata": {
    "colab": {
      "provenance": []
    },
    "kernelspec": {
      "name": "python3",
      "display_name": "Python 3"
    },
    "language_info": {
      "name": "python"
    }
  },
  "cells": [
    {
      "cell_type": "markdown",
      "source": [
        "# **Project 7: Personal Data Analysis**\n",
        "\n",
        "Partner: Gauri Vaidya"
      ],
      "metadata": {
        "id": "Skmq4T3d-93v"
      }
    },
    {
      "cell_type": "markdown",
      "source": [
        "Sources:\n",
        "\n",
        "\n",
        "*   [pandas documentation](https://pandas.pydata.org/pandas-docs/stable/reference/index.html)\n",
        "*   [heatmap info](https://datavizcatalogue.com/methods/heatmap.html)\n",
        "\n"
      ],
      "metadata": {
        "id": "9K_vS40RCJ0n"
      }
    },
    {
      "cell_type": "code",
      "source": [
        "# Import packages\n",
        "from bs4 import BeautifulSoup\n",
        "import re\n",
        "import pandas as pd\n",
        "import seaborn as sns\n",
        "import matplotlib.pyplot as plt"
      ],
      "metadata": {
        "id": "_KfKMAxN5ryh"
      },
      "execution_count": 1,
      "outputs": []
    },
    {
      "cell_type": "code",
      "source": [
        "# Link drive\n",
        "from google.colab import drive\n",
        "drive.mount('/content/drive')"
      ],
      "metadata": {
        "colab": {
          "base_uri": "https://localhost:8080/"
        },
        "id": "RZnoeOAx5qvc",
        "outputId": "cb798f2a-b3c1-4b83-f4e4-cd49f23b5c20"
      },
      "execution_count": 2,
      "outputs": [
        {
          "output_type": "stream",
          "name": "stdout",
          "text": [
            "Mounted at /content/drive\n"
          ]
        }
      ]
    },
    {
      "cell_type": "code",
      "source": [
        "def makeChartManual(xlabel,ylabel,title):\n",
        "    plt.xlabel(xlabel)\n",
        "    plt.ylabel(ylabel)\n",
        "    plt.title(title)"
      ],
      "metadata": {
        "id": "TW8QpuRKhU68"
      },
      "execution_count": 3,
      "outputs": []
    },
    {
      "cell_type": "markdown",
      "source": [
        "# **Part 1: Extracting Timestamps**\n",
        "\n",
        "For this section, I downloaded my YouTube watch history in HTML format, with each entry looking like this:\n",
        "![image.png](data:image/png;base64,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)"
      ],
      "metadata": {
        "id": "fKQw8Qp65R-q"
      }
    },
    {
      "cell_type": "code",
      "source": [
        "# Link to watch history file in Drive\n",
        "history = \"/content/drive/MyDrive/CS215/Project 7/watch-history.html\""
      ],
      "metadata": {
        "id": "Tlc5hY7h7LXs"
      },
      "execution_count": 4,
      "outputs": []
    },
    {
      "cell_type": "code",
      "source": [
        "# Temporarily open history file, parse it with beautifulsoup\n",
        "with open(history, 'r', encoding='utf-8') as yt_file:\n",
        "    yt_soup = BeautifulSoup(yt_file, 'lxml')\n",
        "# Consolidate sections with date\n",
        "date_section = yt_soup.find_all(class_='content-cell mdl-cell mdl-cell--6-col mdl-typography--body-1')"
      ],
      "metadata": {
        "id": "azl3lWT56qv3"
      },
      "execution_count": 5,
      "outputs": []
    },
    {
      "cell_type": "markdown",
      "source": [
        "For the final step of extracting the timestamps, I ran into problems because the class that contained the timestamps also contained other text. I asked ChatGPT what the best way around this was. It reccomended using the re module to search for a specific format of text. It helped me figure out how to use re to extract the timestamps. While I haven't learned how to use re entirely by myself after this, my goal is to be familiar enought to know to use it in the future, solidifying my knowledge of the tool over time."
      ],
      "metadata": {
        "id": "X0gNlK3f9JyQ"
      }
    },
    {
      "cell_type": "code",
      "source": [
        "dates = []\n",
        "\n",
        "for section in date_section:\n",
        "    txt = section.text\n",
        "    # Search for text with this specific format and sequencing of numbers and letters\n",
        "    date_search = re.search(r'\\w{3} \\d{1,2}, \\d{4}, \\d{1,2}:\\d{2}:\\d{1,2}\\s[AP]M\\s[A-Z]{3}', txt)\n",
        "\n",
        "    # Returns the searched text\n",
        "    date = date_search.group()\n",
        "    # Replace an irregular space character with a regular space\n",
        "    date = date.replace('\\u202f', ' ')\n",
        "    dates.append(date)\n",
        "# Create dataframe and csv with timestamps\n",
        "dfK = pd.DataFrame(dates, columns=['Timestamp'])\n",
        "dfK.to_csv('timestamps_kyle.csv', index=False)"
      ],
      "metadata": {
        "id": "n31gy8XQ6lL-"
      },
      "execution_count": 6,
      "outputs": []
    },
    {
      "cell_type": "markdown",
      "source": [
        "# **Part 2: Timestamp Analysis**\n",
        "\n"
      ],
      "metadata": {
        "id": "vtbixPOB-4fc"
      }
    },
    {
      "cell_type": "markdown",
      "source": [
        "In this section, I imported my parner's timestamp data in CSV format for analysis."
      ],
      "metadata": {
        "id": "frPCkqoL_NR9"
      }
    },
    {
      "cell_type": "code",
      "source": [
        "partner_hist = \"/content/drive/MyDrive/CS215/Project 7/GV search history timestamps.csv\"\n",
        "dfP = pd.read_csv(partner_hist)\n",
        "# Invert dataframe\n",
        "dfP = dfP.iloc[::-1]"
      ],
      "metadata": {
        "id": "Dvxl6Cfs_snE"
      },
      "execution_count": 7,
      "outputs": []
    },
    {
      "cell_type": "code",
      "source": [
        "# Converts to datetime64 format\n",
        "dfP['Timestamp'] = pd.to_datetime(dfP['Timestamp'], format='%Y-%m-%d %H:%M:%S%z')\n",
        "\n",
        "# New column of difference between timestamp rows\n",
        "dfP['deltaT'] = dfP['Timestamp'].diff()"
      ],
      "metadata": {
        "id": "HNvkR2-7DBEH"
      },
      "execution_count": 8,
      "outputs": []
    },
    {
      "cell_type": "code",
      "source": [
        "# Max time difference\n",
        "print(dfP['deltaT'].max())"
      ],
      "metadata": {
        "colab": {
          "base_uri": "https://localhost:8080/"
        },
        "id": "BdNkmDdPJ_AW",
        "outputId": "5f1d59b0-1cf9-4a11-f705-256f94e5797e"
      },
      "execution_count": 9,
      "outputs": [
        {
          "output_type": "stream",
          "name": "stdout",
          "text": [
            "737 days 10:19:06\n"
          ]
        }
      ]
    },
    {
      "cell_type": "code",
      "source": [
        "# Average time difference\n",
        "print(dfP['deltaT'].mean())"
      ],
      "metadata": {
        "colab": {
          "base_uri": "https://localhost:8080/"
        },
        "id": "fy2Cc_DCKHJ9",
        "outputId": "b40fd0f7-1276-49d5-b589-966d593a1a14"
      },
      "execution_count": 10,
      "outputs": [
        {
          "output_type": "stream",
          "name": "stdout",
          "text": [
            "0 days 13:11:46.082706766\n"
          ]
        }
      ]
    },
    {
      "cell_type": "markdown",
      "source": [
        "The maximum time between entries was 737 days, and the average was 13 hours. Given the average consistency of entries, this seems to indicate that the service was not used during those 737 days, she switched to another account, or data was lost somehow."
      ],
      "metadata": {
        "id": "bxWBE6bKKZO1"
      }
    },
    {
      "cell_type": "code",
      "source": [
        "# New columns for day and month of each timestamp entry\n",
        "dfP['day'] = pd.DatetimeIndex(dfP['Timestamp']).day\n",
        "dfP['month'] = pd.DatetimeIndex(dfP['Timestamp']).month\n",
        "dfP['hour'] = pd.DatetimeIndex(dfP['Timestamp']).hour\n",
        "dfP['date'] = pd.DatetimeIndex(dfP['Timestamp']).date\n",
        "dfP['year'] = pd.DatetimeIndex(dfP['Timestamp']).year"
      ],
      "metadata": {
        "collapsed": true,
        "id": "mSFITbc8LU8i"
      },
      "execution_count": 11,
      "outputs": []
    },
    {
      "cell_type": "code",
      "source": [
        "# Analyze frequency of each month with value counts\n",
        "print(dfP['month'].value_counts())"
      ],
      "metadata": {
        "colab": {
          "base_uri": "https://localhost:8080/"
        },
        "id": "NuWDZJOSMt-8",
        "outputId": "11279ce6-9d4c-4106-a3da-8b61fc09096a"
      },
      "execution_count": 12,
      "outputs": [
        {
          "output_type": "stream",
          "name": "stdout",
          "text": [
            "month\n",
            "12    471\n",
            "8     458\n",
            "1     437\n",
            "6     434\n",
            "5     408\n",
            "7     392\n",
            "3     391\n",
            "2     373\n",
            "11    355\n",
            "10    315\n",
            "4     223\n",
            "Name: count, dtype: int64\n"
          ]
        }
      ]
    },
    {
      "cell_type": "markdown",
      "source": [
        "Using value_counts, I can see that December is the month with the most entries, at 471. I could guess that this lines up with winter break. In keeping with this theory, January is third. The specific day with the most entries is January 15th, 2025."
      ],
      "metadata": {
        "id": "MVf42BCPzuB2"
      }
    },
    {
      "cell_type": "code",
      "source": [
        "# Dates with the most entries\n",
        "print(dfP['date'].value_counts().head())"
      ],
      "metadata": {
        "colab": {
          "base_uri": "https://localhost:8080/"
        },
        "id": "ppfUDGcDR4j2",
        "outputId": "962ef37e-ac79-4966-d4dc-1e47ad9c20b8"
      },
      "execution_count": 13,
      "outputs": [
        {
          "output_type": "stream",
          "name": "stdout",
          "text": [
            "date\n",
            "2025-01-15    74\n",
            "2025-01-16    40\n",
            "2025-02-02    38\n",
            "2023-05-15    38\n",
            "2023-07-28    33\n",
            "Name: count, dtype: int64\n"
          ]
        }
      ]
    },
    {
      "cell_type": "markdown",
      "source": [
        "**Visualization:**\n",
        "\n",
        "To try and figure out what kind of data this is, I decided to create a heatmap that shows the frequency of entries across the hours of a day for each month in the year. I've never created a heatmap before, so I used ChatGPT to help me figure out the best way to do this using pandas."
      ],
      "metadata": {
        "id": "QNcn56d24QET"
      }
    },
    {
      "cell_type": "code",
      "source": [
        "heatmap = dfP.groupby(['month', 'hour'])['hour'].count().reset_index(name='count')\n",
        "heatmap = heatmap.pivot(index='hour', columns='month', values='count')\n",
        "\n",
        "sns.heatmap(heatmap)"
      ],
      "metadata": {
        "colab": {
          "base_uri": "https://localhost:8080/",
          "height": 467
        },
        "id": "1SuZ--cp6rJc",
        "outputId": "0a8b9847-d762-453a-c6a7-26ba1c96163f"
      },
      "execution_count": 14,
      "outputs": [
        {
          "output_type": "execute_result",
          "data": {
            "text/plain": [
              "<Axes: xlabel='month', ylabel='hour'>"
            ]
          },
          "metadata": {},
          "execution_count": 14
        },
        {
          "output_type": "display_data",
          "data": {
            "text/plain": [
              "<Figure size 640x480 with 2 Axes>"
            ],
            "image/png": "[encoded data removed]"
          },
          "metadata": {}
        }
      ]
    },
    {
      "cell_type": "markdown",
      "source": [
        "I think there are a few takeaways from this heatmap. There is consistently a lack of entries in the afternoon and evening (~2pm to 8pm). The most common hours varies across the course of the year, with morning-noon being the most common during summer months, and near-midnight being quite common during some winter months. The service also doesn't seem to be used as much during unbroken school months. During non-sumer months, the service is generally used most at night. The service is used most frequently during the summer, with most use centered near noon. Overall, these frequencies seem to indicate that the service is used during times when free time is most likely to occur.\n",
        "\n",
        "Based on this, and the high number of entries that can occur, I think that the data is likely a search history of some sort. Doing a closer analysis of time between searches could help reveal what type of search data it is (YouTube might have more time in between searches during a period of active searching)."
      ],
      "metadata": {
        "id": "9lP5oovfL6hd"
      }
    },
    {
      "cell_type": "markdown",
      "source": [
        "**Partner's Analysis:**\n",
        "\n"
      ],
      "metadata": {
        "id": "AQlXy3qHuWRX"
      }
    },
    {
      "cell_type": "markdown",
      "source": [
        "# **Part 3: Combined Visualization**"
      ],
      "metadata": {
        "id": "eFGNMtCfXZk7"
      }
    },
    {
      "cell_type": "markdown",
      "source": [
        "# **Part 4: Additional Analysis**\n",
        "\n",
        "Questions:\n",
        "\n",
        "\n",
        "*   What YouTubers have I watched the most of in total?\n",
        "*   How many different YouTubers have I watched?\n",
        "\n",
        "\n",
        "\n",
        "\n"
      ],
      "metadata": {
        "id": "Nk4BIGSgXf_q"
      }
    },
    {
      "cell_type": "markdown",
      "source": [
        "For the first question, I iterated through each channel name and counted the number of times it occurs in a dictionary that I sort using a lambda function."
      ],
      "metadata": {
        "id": "uSb4ehGvhpbr"
      }
    },
    {
      "cell_type": "code",
      "source": [
        "youtubers = {}\n",
        "\n",
        "# Find channel name (if applicable), count # of occurences\n",
        "for section in date_section:\n",
        "  links = section.find_all('a')\n",
        "  try:\n",
        "    channel = links[1].get_text(strip=True)\n",
        "  except:\n",
        "    pass\n",
        "  if channel not in youtubers:\n",
        "    youtubers[channel] = 1\n",
        "  else:\n",
        "    youtubers[channel] += 1\n",
        "\n",
        "# Sort dictionary into a list of tuples\n",
        "ytrs_sorted = sorted(youtubers.items(), key=lambda item: item[1], reverse=True)"
      ],
      "metadata": {
        "id": "KwUO8rFTZEYf"
      },
      "execution_count": 15,
      "outputs": []
    },
    {
      "cell_type": "code",
      "source": [
        "# Top 10 lists for plotting\n",
        "ytrs_top_0 = [entry[0] for entry in ytrs_sorted[:10]]\n",
        "ytrs_top_1 = [entry[1] for entry in ytrs_sorted[:10]]"
      ],
      "metadata": {
        "id": "8iXA6WKJfH_I"
      },
      "execution_count": 16,
      "outputs": []
    },
    {
      "cell_type": "code",
      "source": [
        "# Bar chart of the 10 youtubers I watched the most\n",
        "plt.bar(ytrs_top_0, ytrs_top_1)\n",
        "plt.xticks(rotation=90,fontsize=7)\n",
        "makeChartManual('YouTuber','# watches','Top 10 Watched YTers')\n",
        "plt.show()"
      ],
      "metadata": {
        "colab": {
          "base_uri": "https://localhost:8080/",
          "height": 567
        },
        "id": "ALPHGzCac9pY",
        "outputId": "3a3f848a-5bd9-4b76-8e59-e75d1ddfe9e1"
      },
      "execution_count": 17,
      "outputs": [
        {
          "output_type": "display_data",
          "data": {
            "text/plain": [
              "<Figure size 640x480 with 1 Axes>"
            ],
            "image/png": "[encoded data removed]"
          },
          "metadata": {}
        }
      ]
    },
    {
      "cell_type": "markdown",
      "source": [
        "This visualization is funny for me to see, as most of these represent different interests I had during the COVID lockdown. Surprisingly, there were no Minecraft YouTubers."
      ],
      "metadata": {
        "id": "ql05_B-4ioHv"
      }
    },
    {
      "cell_type": "markdown",
      "source": [
        "My final question is simpler to answer than the others: I wanted to know how many unique youtubers I have watched. My intuition told me it would be around a thousand at most. To my surprise, the number was almost 12000"
      ],
      "metadata": {
        "id": "nCpcQ4FjLSeN"
      }
    },
    {
      "cell_type": "code",
      "source": [
        "# Number of unique YouTubers\n",
        "num_youtubers = len(ytrs_sorted)\n",
        "print(num_youtubers)"
      ],
      "metadata": {
        "colab": {
          "base_uri": "https://localhost:8080/"
        },
        "id": "4xpxJ8szjQSB",
        "outputId": "edd7f0c2-c6f5-44fe-dd57-962123dbe146"
      },
      "execution_count": 18,
      "outputs": [
        {
          "output_type": "stream",
          "name": "stdout",
          "text": [
            "11633\n"
          ]
        }
      ]
    },
    {
      "cell_type": "markdown",
      "source": [
        "For use in the shared part of section 2, I exported the analyzed data as a csv"
      ],
      "metadata": {
        "id": "RsjhWycblxKu"
      }
    },
    {
      "cell_type": "code",
      "source": [
        "dfP.to_csv('gauri_analyzed.csv')"
      ],
      "metadata": {
        "id": "j9_SQpdTlCO-"
      },
      "execution_count": null,
      "outputs": []
    }
  ]
}